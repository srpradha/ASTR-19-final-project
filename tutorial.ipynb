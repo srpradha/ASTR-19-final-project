{
 "cells": [
  {
   "cell_type": "markdown",
   "metadata": {},
   "source": [
    "# ASTR 19 Final Project\n",
    "\n",
    "Tutorial that was followed for the project: [Link](https://sep.readthedocs.io/en/v1.0.x/tutorial.html)\n",
    "\n",
    "Documentation for the `astropy.io.fits` package: [Link](https://docs.astropy.org/en/stable/io/fits/)"
   ]
  },
  {
   "cell_type": "markdown",
   "metadata": {},
   "source": [
    "Import packages needed for the project"
   ]
  },
  {
   "cell_type": "code",
   "execution_count": null,
   "metadata": {},
   "outputs": [],
   "source": [
    "import numpy as np\n",
    "from astropy.io import fits\n",
    "import sep\n",
    "import matplotlib.pyplot as plt\n",
    "from matplotlib import rcParams\n",
    "from matplotlib.patches import Ellipse"
   ]
  },
  {
   "cell_type": "markdown",
   "metadata": {},
   "source": [
    "Set `rcParams` for the format of the plots when using `matplotlib`"
   ]
  },
  {
   "cell_type": "code",
   "execution_count": null,
   "metadata": {},
   "outputs": [],
   "source": [
    "rcParams[\"figure.figsize\"] = [10., 8.]"
   ]
  },
  {
   "cell_type": "markdown",
   "metadata": {},
   "source": [
    "Since we are using `astropy.io.fits`, we first get the HDU List from the `image.fits` file that we are using. The `image.fits` file is from the sep GitHub account ([Link here](https://github.com/kbarbary/sep/blob/main/data/image.fits)). HDU stands for 'Header Data Units' and it is the \"fundamental container structure of the FITS format consisting of a `data` member and its associated metadata in a `header`\" ([reference](https://docs.astropy.org/en/stable/io/fits/api/hdus.html)).\n",
    "\n",
    "This cell opens the file and puts it into an HDU List object. The `info()` method was used to check the contents of the HDU List."
   ]
  },
  {
   "cell_type": "code",
   "execution_count": null,
   "metadata": {},
   "outputs": [],
   "source": [
    "hdul = fits.open(\"image.fits\")\n",
    "hdul.info()"
   ]
  },
  {
   "cell_type": "markdown",
   "metadata": {},
   "source": [
    "Here we get the data we are working with from the HDU List and put it into the `data` variable."
   ]
  },
  {
   "cell_type": "code",
   "execution_count": null,
   "metadata": {},
   "outputs": [],
   "source": [
    "data = hdul[0].data"
   ]
  },
  {
   "cell_type": "markdown",
   "metadata": {},
   "source": [
    "The `matplotlib` library was used to graph the data from the `image.fits` file. First, `numpy` was used to calculate the mean and the standard deviation of the data. Then, those values were used to set the parameters for the plot. A `colorbar` was also created on the side of the graph."
   ]
  },
  {
   "cell_type": "code",
   "execution_count": null,
   "metadata": {},
   "outputs": [],
   "source": [
    "mean, std = np.mean(data), np.std(data)\n",
    "plt.imshow(data, interpolation=\"nearest\", cmap=\"gray\", vmin=(mean - std), vmax=(mean + std), origin=\"lower\")\n",
    "plt.colorbar()\n",
    "\n",
    "# save the figure as a png\n",
    "plt.savefig(\"tut_01.png\", bbox_inches='tight', dpi=400)"
   ]
  },
  {
   "cell_type": "markdown",
   "metadata": {},
   "source": [
    "The `Background()` function gets a \"representation of spatially variable image background and noise\" ([reference](https://sep.readthedocs.io/en/v1.0.x/api/sep.Background.html)).\n",
    "\n",
    "The `bg` stores a `Background` object."
   ]
  },
  {
   "cell_type": "code",
   "execution_count": null,
   "metadata": {},
   "outputs": [],
   "source": [
    "bg = sep.Background(data)"
   ]
  },
  {
   "cell_type": "markdown",
   "metadata": {},
   "source": [
    "The `back()` function does the equivalent of representing the `Background` object as a 2-d `numpy` array."
   ]
  },
  {
   "cell_type": "code",
   "execution_count": null,
   "metadata": {},
   "outputs": [],
   "source": [
    "bg_img = bg.back()"
   ]
  },
  {
   "cell_type": "markdown",
   "metadata": {},
   "source": [
    "Plot the background with `matplotlib`. Add a `colorbar` on the side."
   ]
  },
  {
   "cell_type": "code",
   "execution_count": null,
   "metadata": {},
   "outputs": [],
   "source": [
    "plt.imshow(bg_img, interpolation=\"nearest\", cmap=\"gray\", origin=\"lower\")\n",
    "plt.colorbar()\n",
    "\n",
    "# save the figure as a png\n",
    "plt.savefig(\"tut_02.png\", bbox_inches='tight', dpi=400)"
   ]
  },
  {
   "cell_type": "markdown",
   "metadata": {},
   "source": [
    "Create an array of the background rms and store it in the `bg_rms` variable."
   ]
  },
  {
   "cell_type": "code",
   "execution_count": null,
   "metadata": {},
   "outputs": [],
   "source": [
    "bg_rms = bg.rms()"
   ]
  },
  {
   "cell_type": "markdown",
   "metadata": {},
   "source": [
    "Plot the background noise with `matplotlib`. Add a `colorbar` on the side."
   ]
  },
  {
   "cell_type": "code",
   "execution_count": null,
   "metadata": {},
   "outputs": [],
   "source": [
    "plt.imshow(bg_rms, interpolation=\"nearest\", cmap=\"gray\", origin=\"lower\")\n",
    "plt.colorbar()\n",
    "\n",
    "# save the figure as a png\n",
    "plt.savefig(\"tut_03.png\", bbox_inches='tight', dpi=400)"
   ]
  },
  {
   "cell_type": "markdown",
   "metadata": {},
   "source": [
    "Subtract the background from the data. Doing `data - bg` instead of `bg.subfrom(data)` to avoid modifying values in-place (this preserves the original data)."
   ]
  },
  {
   "cell_type": "code",
   "execution_count": null,
   "metadata": {},
   "outputs": [],
   "source": [
    "data_sub = data - bg"
   ]
  },
  {
   "cell_type": "markdown",
   "metadata": {},
   "source": [
    "Run object detection using the `sep.extract()` function on the background-subtracted data."
   ]
  },
  {
   "cell_type": "code",
   "execution_count": null,
   "metadata": {},
   "outputs": [],
   "source": [
    "objects = sep.extract(data_sub, 1.5, err=bg.globalrms)"
   ]
  },
  {
   "cell_type": "markdown",
   "metadata": {},
   "source": [
    "Count the number of objects detected."
   ]
  },
  {
   "cell_type": "code",
   "execution_count": null,
   "metadata": {},
   "outputs": [],
   "source": [
    "print(len(objects))"
   ]
  },
  {
   "cell_type": "code",
   "execution_count": null,
   "metadata": {},
   "outputs": [],
   "source": [
    "# background-subtracted image\n",
    "fig, ax = plt.subplots()\n",
    "mean, std = np.mean(data_sub), np.std(data_sub)\n",
    "im = ax.imshow(data_sub, interpolation=\"nearest\", cmap=\"gray\", vmin=(mean - std), vmax=(mean + std), origin=\"lower\")\n",
    "\n",
    "# plot an ellipse for each object found\n",
    "for i in range(len(objects)):\n",
    "    e = Ellipse(xy=(objects['x'][i], objects['y'][i]), width=(6 * objects['a'][i]), height=(6 * objects['b'][i]), angle=(objects['theta'][i] * 180. / np.pi))\n",
    "    e.set_facecolor('none')\n",
    "    e.set_edgecolor('red')\n",
    "    ax.add_artist(e)\n",
    "\n",
    "# save the figure as a png\n",
    "plt.savefig(\"tut_04.png\", bbox_inches='tight', dpi=400)"
   ]
  },
  {
   "cell_type": "code",
   "execution_count": null,
   "metadata": {},
   "outputs": [],
   "source": [
    "objects.dtype.names"
   ]
  },
  {
   "cell_type": "markdown",
   "metadata": {},
   "source": []
  },
  {
   "cell_type": "code",
   "execution_count": null,
   "metadata": {},
   "outputs": [],
   "source": [
    "flux, flux_err, _ = sep.sum_circle(data_sub, objects['x'], objects['y'], 3.0, err=bg.globalrms, gain=1.0)"
   ]
  },
  {
   "cell_type": "code",
   "execution_count": null,
   "metadata": {},
   "outputs": [],
   "source": [
    "for i in range(10):\n",
    "    print(f\"object {i}: flux = {flux[i]} +/- {flux_err[i]}\")"
   ]
  },
  {
   "cell_type": "markdown",
   "metadata": {},
   "source": [
    "Close the HDU List object when done using it."
   ]
  },
  {
   "cell_type": "code",
   "execution_count": null,
   "metadata": {},
   "outputs": [],
   "source": [
    "hdul.close()"
   ]
  }
 ],
 "metadata": {
  "kernelspec": {
   "display_name": "venv",
   "language": "python",
   "name": "python3"
  },
  "language_info": {
   "codemirror_mode": {
    "name": "ipython",
    "version": 3
   },
   "file_extension": ".py",
   "mimetype": "text/x-python",
   "name": "python",
   "nbconvert_exporter": "python",
   "pygments_lexer": "ipython3",
   "version": "3.10.12"
  }
 },
 "nbformat": 4,
 "nbformat_minor": 2
}
