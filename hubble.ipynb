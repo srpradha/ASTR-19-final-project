{
 "cells": [
  {
   "cell_type": "markdown",
   "metadata": {},
   "source": [
    "# ASTR 19 Final Project"
   ]
  },
  {
   "cell_type": "markdown",
   "metadata": {},
   "source": [
    "Import packages needed for the project"
   ]
  },
  {
   "cell_type": "code",
   "execution_count": null,
   "metadata": {},
   "outputs": [],
   "source": [
    "import numpy as np\n",
    "from astropy.io import fits\n",
    "from astropy.visualization import make_lupton_rgb\n",
    "import sep\n",
    "import matplotlib.pyplot as plt\n",
    "from matplotlib import rcParams\n",
    "from matplotlib.patches import Ellipse"
   ]
  },
  {
   "cell_type": "markdown",
   "metadata": {},
   "source": [
    "Set `rcParams` for the format of the plots when using `matplotlib`"
   ]
  },
  {
   "cell_type": "code",
   "execution_count": null,
   "metadata": {},
   "outputs": [],
   "source": [
    "rcParams[\"figure.figsize\"] = [10., 8.]"
   ]
  },
  {
   "cell_type": "markdown",
   "metadata": {},
   "source": [
    "Open the file as an HDU List object. Use `info()` to check the contents of the HDU List."
   ]
  },
  {
   "cell_type": "code",
   "execution_count": null,
   "metadata": {},
   "outputs": [],
   "source": [
    "hdul = fits.open(\"hlsp_hudf12_hst_wfc3ir_udfmain_f105w_v1.0_drz.fits\")\n",
    "hdul.info()"
   ]
  },
  {
   "cell_type": "markdown",
   "metadata": {},
   "source": [
    "Extract the data we are using from the HDU List."
   ]
  },
  {
   "cell_type": "code",
   "execution_count": null,
   "metadata": {},
   "outputs": [],
   "source": [
    "data = hdul[0].data"
   ]
  },
  {
   "cell_type": "markdown",
   "metadata": {},
   "source": [
    "Plot the data using the `matplotlib` library."
   ]
  },
  {
   "cell_type": "code",
   "execution_count": null,
   "metadata": {},
   "outputs": [],
   "source": [
    "mean, std = np.mean(data), np.std(data)\n",
    "plt.imshow(data, interpolation=\"nearest\", cmap=\"gray\", vmin=(mean - std), vmax=(mean + std), origin=\"lower\")\n",
    "plt.colorbar()\n",
    "\n",
    "# save the figure as a png\n",
    "plt.savefig(\"hubble_01.png\", bbox_inches='tight', dpi=400)"
   ]
  },
  {
   "cell_type": "markdown",
   "metadata": {},
   "source": [
    "Byte-swap operation in-place in order to use `sep` when analyzing the `.fits` file with `astropy.io.fits`. This is necessary because `astropy.io.fits` returns big-endian byte order arrays even on little-endian machines."
   ]
  },
  {
   "cell_type": "code",
   "execution_count": null,
   "metadata": {},
   "outputs": [],
   "source": [
    "data = data.byteswap(inplace=True).newbyteorder()"
   ]
  },
  {
   "cell_type": "markdown",
   "metadata": {},
   "source": [
    "Store the `Background` object in the `bg` variable."
   ]
  },
  {
   "cell_type": "code",
   "execution_count": null,
   "metadata": {},
   "outputs": [],
   "source": [
    "bg = sep.Background(data)"
   ]
  },
  {
   "cell_type": "markdown",
   "metadata": {},
   "source": [
    "Get the 2-d `numpy` array representation of the `Background` object."
   ]
  },
  {
   "cell_type": "code",
   "execution_count": null,
   "metadata": {},
   "outputs": [],
   "source": [
    "bg_img = bg.back()"
   ]
  },
  {
   "cell_type": "markdown",
   "metadata": {},
   "source": [
    "Plot the background with `matplotlib`."
   ]
  },
  {
   "cell_type": "code",
   "execution_count": null,
   "metadata": {},
   "outputs": [],
   "source": [
    "plt.imshow(bg_img, interpolation=\"nearest\", cmap=\"gray\", origin=\"lower\")\n",
    "plt.colorbar()\n",
    "\n",
    "# save the figure as a png\n",
    "plt.savefig(\"hubble_02.png\", bbox_inches='tight', dpi=400)"
   ]
  },
  {
   "cell_type": "markdown",
   "metadata": {},
   "source": [
    "Create an array fo the background rms and store it in the `bg_rms` variable."
   ]
  },
  {
   "cell_type": "code",
   "execution_count": null,
   "metadata": {},
   "outputs": [],
   "source": [
    "bg_rms = bg.rms()"
   ]
  },
  {
   "cell_type": "markdown",
   "metadata": {},
   "source": [
    "Plot the background noise with `matplotlib`."
   ]
  },
  {
   "cell_type": "code",
   "execution_count": null,
   "metadata": {},
   "outputs": [],
   "source": [
    "plt.imshow(bg_rms, interpolation=\"nearest\", cmap=\"gray\", origin=\"lower\")\n",
    "plt.colorbar()\n",
    "\n",
    "# save the figure as a png\n",
    "plt.savefig(\"hubble_03.png\", bbox_inches='tight', dpi=400)"
   ]
  },
  {
   "cell_type": "markdown",
   "metadata": {},
   "source": [
    "Subtract the background from the data."
   ]
  },
  {
   "cell_type": "code",
   "execution_count": null,
   "metadata": {},
   "outputs": [],
   "source": [
    "data_sub = data - bg"
   ]
  },
  {
   "cell_type": "markdown",
   "metadata": {},
   "source": [
    "I can change the 2nd argument to adjust the threshhold for the objects that are found. Keeping it at 1.5 like in the tutorial resulted in too many objects being found because of the background noise."
   ]
  },
  {
   "cell_type": "code",
   "execution_count": null,
   "metadata": {},
   "outputs": [],
   "source": [
    "objects = sep.extract(data_sub, 15, err=bg.globalrms)"
   ]
  },
  {
   "cell_type": "markdown",
   "metadata": {},
   "source": [
    "The number of objects found."
   ]
  },
  {
   "cell_type": "code",
   "execution_count": null,
   "metadata": {},
   "outputs": [],
   "source": [
    "print(f\"Number of Sources: {len(objects)}\")"
   ]
  },
  {
   "cell_type": "markdown",
   "metadata": {},
   "source": [
    "Plot the graph with ellipses around the objects found using `matplotlib`."
   ]
  },
  {
   "cell_type": "code",
   "execution_count": null,
   "metadata": {},
   "outputs": [],
   "source": [
    "# background-subtracted image\n",
    "fig, ax = plt.subplots()\n",
    "mean, std = np.mean(data_sub), np.std(data_sub)\n",
    "im = ax.imshow(data_sub, interpolation=\"nearest\", cmap=\"gray\", vmin=(mean - std), vmax=(mean + std), origin=\"lower\")\n",
    "\n",
    "# plot an ellipse for each object found\n",
    "for i in range(len(objects)):\n",
    "    e = Ellipse(xy=(objects['x'][i], objects['y'][i]), width=(6 * objects['a'][i]), height=(6 * objects['b'][i]), angle=(objects['theta'][i] * 180. / np.pi))\n",
    "    e.set_facecolor('none')\n",
    "    e.set_edgecolor('red')\n",
    "    ax.add_artist(e)\n",
    "\n",
    "# save the figure as a png\n",
    "plt.savefig(\"hubble_04.png\", bbox_inches='tight', dpi=400)"
   ]
  },
  {
   "cell_type": "markdown",
   "metadata": {},
   "source": [
    "Get the fluxes and the error values for each of those fluxes"
   ]
  },
  {
   "cell_type": "code",
   "execution_count": null,
   "metadata": {},
   "outputs": [],
   "source": [
    "flux, flux_err, _ = sep.sum_circle(data_sub, objects['x'], objects['y'], 3.0, err=bg.globalrms, gain=1.0)"
   ]
  },
  {
   "cell_type": "markdown",
   "metadata": {},
   "source": [
    "Show the first 10 objects' fluxes"
   ]
  },
  {
   "cell_type": "code",
   "execution_count": null,
   "metadata": {},
   "outputs": [],
   "source": [
    "for i in range(10):\n",
    "    print(f\"object {i}: flux = {flux[i]} +/- {flux_err[i]}\")"
   ]
  },
  {
   "cell_type": "markdown",
   "metadata": {},
   "source": [
    "Plot the histogram of the fluxes using `matplotlib`."
   ]
  },
  {
   "cell_type": "code",
   "execution_count": null,
   "metadata": {},
   "outputs": [],
   "source": [
    "# define figure and axis\n",
    "f, ax = plt.subplots(1, 1, figsize=(5, 5))\n",
    "\n",
    "# create histogram\n",
    "w = 25\n",
    "ax.hist(\n",
    "        flux,\n",
    "        bins=np.arange((int)(min(flux)), (int)(max(flux) + w) + 1, w),\n",
    "        edgecolor=\"black\",\n",
    "    )\n",
    "\n",
    "# label axes\n",
    "ax.set_xlabel(\"flux\", fontsize=12)\n",
    "ax.set_ylabel(\"count\", fontsize=12)\n",
    "\n",
    "# save figure as PDF\n",
    "plt.savefig(\"hubble_05.png\", bbox_inches='tight', dpi=400)"
   ]
  },
  {
   "cell_type": "markdown",
   "metadata": {},
   "source": [
    "Mean, median, and standard deviation of the distribution of the fluxes"
   ]
  },
  {
   "cell_type": "code",
   "execution_count": null,
   "metadata": {},
   "outputs": [],
   "source": [
    "mean = np.mean(flux)\n",
    "median = np.median(flux)\n",
    "std = np.std(flux)\n",
    "\n",
    "print(f\"Mean: {mean}\\nMedian: {median}\\nStandard Deviation: {std}\")"
   ]
  },
  {
   "cell_type": "markdown",
   "metadata": {},
   "source": [
    "Finding the largest outlier in the distribution"
   ]
  },
  {
   "cell_type": "code",
   "execution_count": null,
   "metadata": {},
   "outputs": [],
   "source": [
    "outliers = [val for val in flux if np.abs(val - mean) > std * 3]\n",
    "largest_outlier = max(outliers)\n",
    "\n",
    "print(f\"Largest outlier: {largest_outlier}\")"
   ]
  },
  {
   "cell_type": "markdown",
   "metadata": {},
   "source": [
    "Circle the largest outlier on the image"
   ]
  },
  {
   "cell_type": "code",
   "execution_count": null,
   "metadata": {},
   "outputs": [],
   "source": [
    "# get the index of the outlier object\n",
    "outlier_object_index = np.where(flux == largest_outlier)\n",
    "\n",
    "# background-subtracted image\n",
    "fig, ax = plt.subplots()\n",
    "mean, std = np.mean(data_sub), np.std(data_sub)\n",
    "im = ax.imshow(data_sub, interpolation=\"nearest\", cmap=\"gray\", vmin=(mean - std), vmax=(mean + std), origin=\"lower\")\n",
    "\n",
    "# draw a circle around the object on the image\n",
    "e = Ellipse(xy=(objects['x'][outlier_object_index], objects['y'][outlier_object_index]), width=(6 * objects['a'][outlier_object_index]), height=(6 * objects['b'][outlier_object_index]), angle=(objects['theta'][outlier_object_index] * 180. / np.pi))\n",
    "e.set_facecolor('none')\n",
    "e.set_edgecolor('red')\n",
    "ax.add_artist(e)\n",
    "\n",
    "# save the figure as a png\n",
    "plt.savefig(\"hubble_06.png\")"
   ]
  },
  {
   "cell_type": "markdown",
   "metadata": {},
   "source": [
    "The next code block calculates how many standard deviations the outlier is away from the mean."
   ]
  },
  {
   "cell_type": "code",
   "execution_count": null,
   "metadata": {},
   "outputs": [],
   "source": [
    "stds_from_mean = np.abs(largest_outlier - mean) / std\n",
    "\n",
    "print(f\"Largest outier is {stds_from_mean} stds away from the mean\")"
   ]
  },
  {
   "cell_type": "markdown",
   "metadata": {},
   "source": [
    "#### 3-color false image\n",
    "\n",
    "Resources used:\n",
    "\n",
    "- https://docs.astropy.org/en/stable/visualization/rgb.html"
   ]
  },
  {
   "cell_type": "markdown",
   "metadata": {},
   "source": [
    "Open the f125w image as an HDU List and get the data"
   ]
  },
  {
   "cell_type": "code",
   "execution_count": null,
   "metadata": {},
   "outputs": [],
   "source": [
    "hdul2 = fits.open(\"hlsp_hudf12_hst_wfc3ir_udfmain_f125w_v1.0_drz.fits\")\n",
    "# hdul2.info()\n",
    "data2 = hdul2[0].data"
   ]
  },
  {
   "cell_type": "markdown",
   "metadata": {},
   "source": [
    "Open the f160w image as an HDU List and get the data"
   ]
  },
  {
   "cell_type": "code",
   "execution_count": null,
   "metadata": {},
   "outputs": [],
   "source": [
    "hdul3 = fits.open(\"hlsp_hudf12_hst_wfc3ir_udfmain_f160w_v1.0_drz.fits\")\n",
    "# hdul3.info()\n",
    "data3 = hdul3[0].data"
   ]
  },
  {
   "cell_type": "markdown",
   "metadata": {},
   "source": [
    "Create the 3-color false image of the UDFs"
   ]
  },
  {
   "cell_type": "code",
   "execution_count": null,
   "metadata": {},
   "outputs": [],
   "source": [
    "# make the r-color false image\n",
    "image = make_lupton_rgb(data3, data2, data, Q=0, stretch=0.01)\n",
    "\n",
    "# plot the image\n",
    "plt.imshow(image, origin=\"lower\")\n",
    "\n",
    "# save the figure as a png\n",
    "plt.savefig(\"hubble_07.png\", bbox_inches='tight', dpi=400)"
   ]
  },
  {
   "cell_type": "markdown",
   "metadata": {},
   "source": [
    "Close the HDU List object when done using it"
   ]
  },
  {
   "cell_type": "code",
   "execution_count": null,
   "metadata": {},
   "outputs": [],
   "source": [
    "hdul.close()\n",
    "hdul2.close()\n",
    "hdul3.close()"
   ]
  }
 ],
 "metadata": {
  "kernelspec": {
   "display_name": "venv",
   "language": "python",
   "name": "python3"
  },
  "language_info": {
   "codemirror_mode": {
    "name": "ipython",
    "version": 3
   },
   "file_extension": ".py",
   "mimetype": "text/x-python",
   "name": "python",
   "nbconvert_exporter": "python",
   "pygments_lexer": "ipython3",
   "version": "3.10.12"
  }
 },
 "nbformat": 4,
 "nbformat_minor": 2
}
